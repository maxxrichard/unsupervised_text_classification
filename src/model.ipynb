{
  "nbformat": 4,
  "nbformat_minor": 0,
  "metadata": {
    "colab": {
      "name": "task5.ipynb",
      "provenance": [],
      "collapsed_sections": [],
      "toc_visible": true
    },
    "kernelspec": {
      "name": "python3",
      "display_name": "Python 3"
    }
  },
  "cells": [
    {
      "cell_type": "markdown",
      "metadata": {
        "id": "_htecN1WKPn4",
        "colab_type": "text"
      },
      "source": [
        "# **Task 5**\n",
        "**Classification of parties involved in patent litigation as organization, individual or unknown.**\n",
        "\n",
        "This is an unsupervised classification problem which can be solved by the clustering technique. First, we preprocess the data and try to extract some common features which can be used to distinguish data. Since these features might be correlated to each other, so we will perform Principal Component Analysis (PCA) which will return the uncorrelated vectors and also reduce the dimension of our feature space. Then, we can plot the output in two-dimensional space and expect to see distinct clusters. Now, we can apply the k-means clustering algorithm to form the clusters and label them according to our output labels.\n",
        "\n",
        "It is divided into the following sections:\n",
        "- Getting the necessary libraries & data\n",
        "- Preprocessing the data\n",
        "- Performing feature engineering to extract features\n",
        "- Training a model to perform PCA and clustering"
      ]
    },
    {
      "cell_type": "markdown",
      "metadata": {
        "id": "pt5iBreLgh5G",
        "colab_type": "text"
      },
      "source": [
        "# **Importing libraries & reading data**"
      ]
    },
    {
      "cell_type": "code",
      "metadata": {
        "id": "W_Vn7zpYRf3l",
        "colab_type": "code",
        "colab": {}
      },
      "source": [
        "#importing all the necessary libraries\n",
        "from sklearn.decomposition import PCA\n",
        "from sklearn.cluster import KMeans\n",
        "import matplotlib.pyplot as plt\n",
        "import numpy as np\n",
        "import pandas as pd\n",
        "import nltk\n",
        "nltk.download('punkt')\n",
        "nltk.download('averaged_perceptron_tagger')\n",
        "from collections import Counter\n",
        "\n",
        "#reading the data\n",
        "df = pd.read_csv('https://raw.githubusercontent.com/sg-dev/assignment_PhDposition/master/task5_data/patent_litigation_parties.csv')"
      ],
      "execution_count": null,
      "outputs": []
    },
    {
      "cell_type": "markdown",
      "metadata": {
        "id": "TtouWakuS9iq",
        "colab_type": "text"
      },
      "source": [
        "# **Data preprocessing**"
      ]
    },
    {
      "cell_type": "markdown",
      "metadata": {
        "id": "WoTS7oJROAhr",
        "colab_type": "text"
      },
      "source": [
        "\n",
        "- We want to remove all the '.' and ',' since it does not provide any meaningful information to the model.\n",
        "\n",
        "- We also want to convert all the text to lowercase later for feature extraction."
      ]
    },
    {
      "cell_type": "code",
      "metadata": {
        "id": "x9Qoxq5mSjJW",
        "colab_type": "code",
        "colab": {}
      },
      "source": [
        "text = [i.replace('.','').replace(',','') for i in df['name']] #removing delimiter\n",
        "text_lower = [i.lower() for i in text]                         #converting to lowercase"
      ],
      "execution_count": null,
      "outputs": []
    },
    {
      "cell_type": "markdown",
      "metadata": {
        "id": "Xnlg8mlDTNs6",
        "colab_type": "text"
      },
      "source": [
        "# **Feature engineering**\n",
        "\n",
        "In this section, we will extract four different features which will help us to distinguish the data."
      ]
    },
    {
      "cell_type": "markdown",
      "metadata": {
        "id": "4VLgPK-nNTD9",
        "colab_type": "text"
      },
      "source": [
        "**Feature 1** : Common words\n",
        "\n",
        "One of our desired labels is organization. So we will use the domain knowledge of the organization to classify the text which contains words related to this."
      ]
    },
    {
      "cell_type": "code",
      "metadata": {
        "id": "KurKDqR5X4Vl",
        "colab_type": "code",
        "colab": {}
      },
      "source": [
        "word = ['corporation', 'compan', 'international', 'bv', 'communication', 'solution', 'inc', 'llc', \n",
        "        ' lp', 'plc', 'service', 'research','group','corp','incorporate','bank','university','limited',\n",
        "        'ltd','co','publication','production', 'ag','service','system', 'associate','group','industr',\n",
        "        'gmbh','entertainment','laborator', 'technolog','health','manufactur']\n",
        "\n",
        "f1=[int(any([1 if(j in i) else 0 for j in word])) for i in text_lower]      #storing 1 if the text contains any of these words, otherwise 0"
      ],
      "execution_count": null,
      "outputs": []
    },
    {
      "cell_type": "markdown",
      "metadata": {
        "id": "U6f7raAoNPGI",
        "colab_type": "text"
      },
      "source": [
        "**Feature 2** : No. of words\n",
        "\n",
        "Total no. of words in the text can be used as one of the features since for example; an individual name will have less no. of words than the organization or unknown."
      ]
    },
    {
      "cell_type": "code",
      "metadata": {
        "id": "gMpacb8_LiWY",
        "colab_type": "code",
        "colab": {}
      },
      "source": [
        "f2= [len(i.split()) for i in text]    #storing total no. of words in the text"
      ],
      "execution_count": null,
      "outputs": []
    },
    {
      "cell_type": "markdown",
      "metadata": {
        "id": "hHh42u46NV8J",
        "colab_type": "text"
      },
      "source": [
        "**Feature 3** : Part of speech tagging\n",
        "\n",
        "Now, we are interested in tagging each word of the text as noun, verb, digit, etc. This will help us to extract much of the information from the text. This feature is divided into 5 subfeatures:\n",
        "\n",
        "- Noun : count total no. of nouns in the text (both common & proper noun)\n",
        "- Verbs : count total no. of verbs in the text\n",
        "- Digit : count total no. of numeric value in the text\n",
        "- Determiner : words like to, in, below, etc\n",
        "- Adjective : adjectives to the noun"
      ]
    },
    {
      "cell_type": "code",
      "metadata": {
        "id": "Rsxuhyu8LlOr",
        "colab_type": "code",
        "colab": {}
      },
      "source": [
        "noun = []\n",
        "verb = []\n",
        "digit = []\n",
        "determiner = []\n",
        "adjective = []\n",
        "\n",
        "for i in text:\n",
        "  tokens = nltk.word_tokenize(i)                  #tokenizing the text\n",
        "  tokens_text = nltk.Text(tokens)\n",
        "  tags = nltk.pos_tag(tokens_text)                #tagging the tokens\n",
        "  counts = Counter(tag for word,tag in tags)      #counting the tags\n",
        "\n",
        "  #counting different kinds of tags in different categories\n",
        "  noun_sf = (counts['NN'],counts['NNS'],counts['NNP'],counts['NNPS'])                                     \n",
        "  verb_sf = (counts['VB'],counts['VBD'],counts['VBG'],counts['VBN'],counts['VBP'],counts['VBZ'])\n",
        "  digit_sf =(counts['CD'],0)\n",
        "  determiner_sf =(counts['DT'],counts['IN'])\n",
        "  adjective_sf = (counts['JJ'],counts['JJR'],counts['JJS'],counts['RB'],counts['RBR'],counts['RBS'])\n",
        "\n",
        "  noun.append(sum(noun_sf))\n",
        "  verb.append(sum(verb_sf))\n",
        "  digit.append(sum(digit_sf))\n",
        "  determiner.append(sum(determiner_sf))\n",
        "  adjective.append(sum(adjective_sf))"
      ],
      "execution_count": null,
      "outputs": []
    },
    {
      "cell_type": "markdown",
      "metadata": {
        "id": "qyj00pmHNYkZ",
        "colab_type": "text"
      },
      "source": [
        "**Feature 4** : No. of words starting with uppercase\n",
        "\n",
        "Let us take an example, individual names or company will have more no. of words starting with uppercase letter than unknown text. So, we can use it as a feature."
      ]
    },
    {
      "cell_type": "code",
      "metadata": {
        "id": "WhDQzlC6LoS8",
        "colab_type": "code",
        "colab": {}
      },
      "source": [
        "f4 = [sum(1 for c in i.split(\" \") if c[0].isupper()) for i in df['name']]     #storing total no. of words starting with uppercase letter"
      ],
      "execution_count": null,
      "outputs": []
    },
    {
      "cell_type": "markdown",
      "metadata": {
        "id": "jTadsoLrNdJb",
        "colab_type": "text"
      },
      "source": [
        "**Combining all the features to a new dataframe**\n",
        "\n",
        "Now, we will create a new dataframe consists of all the 4 features and their subfeatures. We will also normalize the content to the maximum value of the feature.\n"
      ]
    },
    {
      "cell_type": "code",
      "metadata": {
        "id": "CnHHQXsmLqhk",
        "colab_type": "code",
        "colab": {
          "base_uri": "https://localhost:8080/",
          "height": 204
        },
        "outputId": "adb45de8-acbf-474a-f9b4-425083d886b7"
      },
      "source": [
        "listOfStr = [\"commonwords\", \"wordcount\", \"noun\", \"verb\", \"digit\", \"determiner\", \"adjective\", \"capitalcount\"]\n",
        "temp = [f1, f2, noun,verb,digit,determiner,adjective,f4]\n",
        "df_features = pd.DataFrame (dict(zip(listOfStr, temp)), columns = listOfStr)          #creating a new dataframe and adding all the features\n",
        "\n",
        "for i in listOfStr:\n",
        "  df_features[i] = df_features[i]/df_features[i].max()                                #normalizing all the features\n",
        "df_features.head()                                                                    #print first 5 entries of the dataframe"
      ],
      "execution_count": null,
      "outputs": [
        {
          "output_type": "execute_result",
          "data": {
            "text/html": [
              "<div>\n",
              "<style scoped>\n",
              "    .dataframe tbody tr th:only-of-type {\n",
              "        vertical-align: middle;\n",
              "    }\n",
              "\n",
              "    .dataframe tbody tr th {\n",
              "        vertical-align: top;\n",
              "    }\n",
              "\n",
              "    .dataframe thead th {\n",
              "        text-align: right;\n",
              "    }\n",
              "</style>\n",
              "<table border=\"1\" class=\"dataframe\">\n",
              "  <thead>\n",
              "    <tr style=\"text-align: right;\">\n",
              "      <th></th>\n",
              "      <th>commonwords</th>\n",
              "      <th>wordcount</th>\n",
              "      <th>noun</th>\n",
              "      <th>verb</th>\n",
              "      <th>digit</th>\n",
              "      <th>determiner</th>\n",
              "      <th>adjective</th>\n",
              "      <th>capitalcount</th>\n",
              "    </tr>\n",
              "  </thead>\n",
              "  <tbody>\n",
              "    <tr>\n",
              "      <th>0</th>\n",
              "      <td>1.0</td>\n",
              "      <td>0.238095</td>\n",
              "      <td>0.384615</td>\n",
              "      <td>0.00</td>\n",
              "      <td>0.0</td>\n",
              "      <td>0.000000</td>\n",
              "      <td>0.000000</td>\n",
              "      <td>0.357143</td>\n",
              "    </tr>\n",
              "    <tr>\n",
              "      <th>1</th>\n",
              "      <td>0.0</td>\n",
              "      <td>0.142857</td>\n",
              "      <td>0.076923</td>\n",
              "      <td>0.25</td>\n",
              "      <td>0.0</td>\n",
              "      <td>0.142857</td>\n",
              "      <td>0.000000</td>\n",
              "      <td>0.000000</td>\n",
              "    </tr>\n",
              "    <tr>\n",
              "      <th>2</th>\n",
              "      <td>0.0</td>\n",
              "      <td>0.142857</td>\n",
              "      <td>0.076923</td>\n",
              "      <td>0.25</td>\n",
              "      <td>0.0</td>\n",
              "      <td>0.142857</td>\n",
              "      <td>0.000000</td>\n",
              "      <td>0.000000</td>\n",
              "    </tr>\n",
              "    <tr>\n",
              "      <th>3</th>\n",
              "      <td>1.0</td>\n",
              "      <td>0.142857</td>\n",
              "      <td>0.230769</td>\n",
              "      <td>0.00</td>\n",
              "      <td>0.0</td>\n",
              "      <td>0.000000</td>\n",
              "      <td>0.000000</td>\n",
              "      <td>0.214286</td>\n",
              "    </tr>\n",
              "    <tr>\n",
              "      <th>4</th>\n",
              "      <td>1.0</td>\n",
              "      <td>0.142857</td>\n",
              "      <td>0.076923</td>\n",
              "      <td>0.00</td>\n",
              "      <td>0.0</td>\n",
              "      <td>0.142857</td>\n",
              "      <td>0.333333</td>\n",
              "      <td>0.000000</td>\n",
              "    </tr>\n",
              "  </tbody>\n",
              "</table>\n",
              "</div>"
            ],
            "text/plain": [
              "   commonwords  wordcount      noun  ...  determiner  adjective  capitalcount\n",
              "0          1.0   0.238095  0.384615  ...    0.000000   0.000000      0.357143\n",
              "1          0.0   0.142857  0.076923  ...    0.142857   0.000000      0.000000\n",
              "2          0.0   0.142857  0.076923  ...    0.142857   0.000000      0.000000\n",
              "3          1.0   0.142857  0.230769  ...    0.000000   0.000000      0.214286\n",
              "4          1.0   0.142857  0.076923  ...    0.142857   0.333333      0.000000\n",
              "\n",
              "[5 rows x 8 columns]"
            ]
          },
          "metadata": {
            "tags": []
          },
          "execution_count": 7
        }
      ]
    },
    {
      "cell_type": "markdown",
      "metadata": {
        "id": "-S3B6FsCC4DF",
        "colab_type": "text"
      },
      "source": [
        "# **Training a model**"
      ]
    },
    {
      "cell_type": "markdown",
      "metadata": {
        "id": "OnISme6wMjX0",
        "colab_type": "text"
      },
      "source": [
        "**Principal Component Analysis**\n",
        "\n",
        "The clustering algorithm cannot be used directly to extracted features because of the following reasons:\n",
        "- Some of the features are correlated with each other. So, it is important to do first perform correlation analysis before applying the algorithm. \n",
        "- The features are 8-dimensional space, and it is very difficult to form clusters in high dimensional space by the algorithm. So, we have to reduce the dimensions of the feature space to two, so that we can also analytically see the clusters and apply clustering algorithm. \n",
        "\n",
        "To solve the above problems, we perform PCA. It is a technique for reducing the dimensionality of datasets, increasing interpretability but at the same time minimizing information loss. It does so by creating new uncorrelated variables that successively maximize variance."
      ]
    },
    {
      "cell_type": "code",
      "metadata": {
        "id": "wfTvpYGVC63m",
        "colab_type": "code",
        "colab": {
          "base_uri": "https://localhost:8080/",
          "height": 279
        },
        "outputId": "6d1421b4-791b-436c-882c-212932aaee4a"
      },
      "source": [
        "pca = PCA(n_components=2)                                             #initialize an object by defining the desired uncorrelated variables\n",
        "principalComponents = pca.fit_transform(df_features)\n",
        "plt.scatter(principalComponents[:,0], principalComponents[:,1])       #plotting the uncorrelated variables in 2D space\n",
        "plt.xlabel('PCA variable 1')\n",
        "plt.ylabel('PCA variable 2')\n",
        "plt.show()"
      ],
      "execution_count": null,
      "outputs": [
        {
          "output_type": "display_data",
          "data": {
            "image/png": "[encoded data removed]",
            "text/plain": [
              "<Figure size 432x288 with 1 Axes>"
            ]
          },
          "metadata": {
            "tags": [],
            "needs_background": "light"
          }
        }
      ]
    },
    {
      "cell_type": "markdown",
      "metadata": {
        "id": "7DNS2gM1Mbkj",
        "colab_type": "text"
      },
      "source": [
        "**k-means clustering**\n",
        "\n",
        "k-means algorithm is an iterative algorithm that tries to partition the dataset into k predefined distinct non-overlapping subgroups (clusters) where each data point belongs to only one group. It tries to make the intra-cluster data points as similar as possible while also keeping the clusters as different as possible. It assigns data points to a cluster such that the sum of the squared distance between the data points and the cluster’s centroid (arithmetic mean of all the data points that belong to that cluster) is at the minimum. "
      ]
    },
    {
      "cell_type": "code",
      "metadata": {
        "id": "klCKTg3SMFNB",
        "colab_type": "code",
        "colab": {
          "base_uri": "https://localhost:8080/",
          "height": 279
        },
        "outputId": "b6445564-fd24-4b7c-a05d-97ba58b06772"
      },
      "source": [
        "true_k = 3                                                                                      #define no. of required clusters to be formed\n",
        "model = KMeans(n_clusters=true_k, init='k-means++', max_iter=200, n_init=1,random_state=5)      #defining a model by initializing KMeans object \n",
        "model.fit(principalComponents)\n",
        "\n",
        "color = ['r','g','b']\n",
        "for i in range(0,3):                                                                            #plotting the PCA variables in 2D space where colour defines the formed clusters\n",
        "  plt.scatter(principalComponents[model.labels_ == i,0], principalComponents[model.labels_ == i,1], c=color[i], label=i)\n",
        "plt.xlabel('PCA variable 1')\n",
        "plt.ylabel('PCA variable 2')\n",
        "plt.legend()\n",
        "plt.show()"
      ],
      "execution_count": null,
      "outputs": [
        {
          "output_type": "display_data",
          "data": {
            "image/png": "[encoded data removed]",
            "text/plain": [
              "<Figure size 432x288 with 1 Axes>"
            ]
          },
          "metadata": {
            "tags": [],
            "needs_background": "light"
          }
        }
      ]
    },
    {
      "cell_type": "markdown",
      "metadata": {
        "id": "s0iEbci7DHkk",
        "colab_type": "text"
      },
      "source": [
        "# **Saving to .csv file**"
      ]
    },
    {
      "cell_type": "code",
      "metadata": {
        "id": "IdDY05eyDLsC",
        "colab_type": "code",
        "colab": {}
      },
      "source": [
        "listOfStr = [\"party_row_count\", \"name\", \"class\"]\n",
        "temp = [df['party_row_count'], df['name'], model.labels_]\n",
        "saving = pd.DataFrame (dict(zip(listOfStr, temp)), columns = listOfStr)             #creating a new dataframe for .csv file\n",
        "\n",
        "labels = ['organization','individual','unknown']                                    #desired labels\n",
        "for i in range (3):\n",
        "  saving['class'] = saving['class'].replace(i,labels[i])                            #converting k-means labels to the desired labels\n",
        "\n",
        "saving.to_csv(r'task5.csv')                                                         #saving the dataframe to .csv file"
      ],
      "execution_count": null,
      "outputs": []
    }
  ]
}